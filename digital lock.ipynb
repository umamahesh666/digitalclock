{
 "cells": [
  {
   "cell_type": "code",
   "execution_count": 1,
   "id": "dc434c97",
   "metadata": {},
   "outputs": [],
   "source": [
    "#CREATING A DIGITAL CLOCK\n",
    "from time import strftime\n",
    "from tkinter import Label,Tk\n",
    "#tkinter library is used for graphical user interfaces\n",
    "# CREATE MAIN WINDOW FOR CLOCK\n",
    "#Tk function is used to create main window\n",
    "#Label function is used to craete label for the items inside the window\n",
    "window=Tk()\n",
    "window.title(\"clock\")\n",
    "window.geometry(\"200x80\")\n",
    "window.configure(bg=\"black\")\n",
    "window.resizable(False,False)\n",
    "\n",
    "#LABEL CONFING\n",
    "clock_label=Label(window,bg=\"black\",fg=\"white\",font=(\"Times\",30,\"bold\"),relief=\"flat\")\n",
    "clock_label.place(x=20,y=20)\n",
    "\n",
    "def updating_label():\n",
    "    current_time=strftime(\"%H: %M: %S\")\n",
    "    clock_label.configure(text=current_time)\n",
    "    clock_label.after(80,updating_label)\n",
    "updating_label()\n",
    "window.mainloop()"
   ]
  },
  {
   "cell_type": "code",
   "execution_count": null,
   "id": "fe702dbc",
   "metadata": {},
   "outputs": [],
   "source": []
  },
  {
   "cell_type": "code",
   "execution_count": null,
   "id": "4552da46",
   "metadata": {},
   "outputs": [],
   "source": []
  },
  {
   "cell_type": "code",
   "execution_count": null,
   "id": "da20ddae",
   "metadata": {},
   "outputs": [],
   "source": []
  }
 ],
 "metadata": {
  "kernelspec": {
   "display_name": "Python 3",
   "language": "python",
   "name": "python3"
  },
  "language_info": {
   "codemirror_mode": {
    "name": "ipython",
    "version": 3
   },
   "file_extension": ".py",
   "mimetype": "text/x-python",
   "name": "python",
   "nbconvert_exporter": "python",
   "pygments_lexer": "ipython3",
   "version": "3.8.8"
  }
 },
 "nbformat": 4,
 "nbformat_minor": 5
}
